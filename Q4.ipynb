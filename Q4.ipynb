{
 "cells": [
  {
   "cell_type": "code",
   "execution_count": 15,
   "id": "sunset-spirit",
   "metadata": {},
   "outputs": [],
   "source": [
    "\n",
    "import hashlib\n",
    "\n",
    "from collections import Counter\n",
    "\n",
    "class misra_gries:\n",
    "    def __init__(self,k):\n",
    "        self.count1 = Counter()\n",
    "        self.k = k   \n",
    "\n",
    "    def insert(self,value,count):\n",
    "        for _ in range(count):\n",
    "            #if space is empty then add it or increment if it already exists\n",
    "            if value in self.count1 or len(self.count1)<self.k:\n",
    "                self.count1[value] +=1\n",
    "            else:\n",
    "                #Remove one if you don't have one value\n",
    "                for k1 in list(self.count1.keys()):\n",
    "                    self.count1[k1]-=1\n",
    "                    if(self.count1[k1]==0):\n",
    "                        del self.count1[k1]\n",
    "\n",
    "    def give_counts(self):\n",
    "        return self.count1\n",
    "\n",
    "\n",
    "class calculate_absolute:\n",
    "    def __init__(self):\n",
    "        self.count1 = Counter()\n",
    "    \n",
    "    def insert(self,value,count):\n",
    "        self.count1[value]+=count\n",
    "\n",
    "    def give_counts(self):\n",
    "        return self.count1\n",
    "\n",
    "class CountMinSketch:\n",
    "  # it takes input and initiates the sketch\n",
    "    def __init__(self, size_of_hashtables, number_of_hashtables):\n",
    "\n",
    "        self.size_of_hashtables = size_of_hashtables\n",
    "        self.number_of_hashtables = number_of_hashtables\n",
    "        self.number_of_elements_added= 0\n",
    "        self.hash_tables = []\n",
    "        for _ in range(number_of_hashtables):\n",
    "            table = [0 for _ in range(size_of_hashtables)]\n",
    "            self.hash_tables.append(table)\n",
    "\n",
    "    def _hash(self, x):\n",
    "        # k-wise hash generation\n",
    "        md5 = hashlib.md5(bytes(str(hash(x)),'utf-8'))\n",
    "        for i in range(self.number_of_hashtables):\n",
    "            md5.update(bytes(str(i),'utf-8'))\n",
    "            yield int(md5.hexdigest(), 16) % self.size_of_hashtables\n",
    "    \n",
    "    def add(self, x, count):\n",
    "        # function for adding a certain element\n",
    "        self.number_of_elements_added+= count\n",
    "        for table, i in zip(self.hash_tables, self._hash(x)):\n",
    "            table[i] += count\n",
    "\n",
    "    def get_count(self, x):\n",
    "        #function for getting counts \n",
    "        return min(table[i] for table, i in zip(self.hash_tables, self._hash(x)))\n",
    "\n",
    "\n",
    "    def __len__(self):\n",
    "        # function for calculating number of elements from \n",
    "        return self.number_of_elements_added\n",
    "\n",
    "\n",
    "\n",
    "\n",
    "class CountSketch:\n",
    "  # it takes input and initiates the sketch\n",
    "    def __init__(self, size_of_hashtables, number_of_hashtables):\n",
    "\n",
    "        self.size_of_hashtables = size_of_hashtables\n",
    "        self.number_of_hashtables = number_of_hashtables\n",
    "        self.number_of_elements_added= 0\n",
    "        self.hash_tables = []\n",
    "        for _ in range(number_of_hashtables):\n",
    "            table = [0 for _ in range(size_of_hashtables)]\n",
    "            self.hash_tables.append(table)\n",
    "\n",
    "    def _hash(self, x):\n",
    "        # k-wise hash generation\n",
    "        md5 = hashlib.md5(bytes(str(hash(x)),'utf-8'))\n",
    "        for i in range(self.number_of_hashtables):\n",
    "            md5.update(bytes(str(i),'utf-8'))\n",
    "            yield int(md5.hexdigest(), 16) % self.size_of_hashtables\n",
    "\n",
    "    def g(self,i):\n",
    "        # getting the g for the each object\n",
    "        if(i%2)==0:\n",
    "            return -1\n",
    "        else:\n",
    "            return 1\n",
    "    \n",
    "    def add(self, x, count):\n",
    "        # function for adding a certain element\n",
    "        self.number_of_elements_added+= count\n",
    "        for table, i in zip(self.hash_tables, self._hash(x)):\n",
    "            table[i] += count*self.g(i)\n",
    "\n",
    "    def get_count(self, x):\n",
    "        #function for getting counts \n",
    "        return sum(table[i] for table, i in zip(self.hash_tables, self._hash(x)))/self.number_of_hashtables\n",
    "\n",
    "\n",
    "    def __len__(self):\n",
    "        # function for calculating number of elements from \n",
    "        return self.number_of_elements_added\n",
    "\n",
    "w =5\n",
    "karr = [100,200,500,1000,2000]\n",
    "val = 100\n",
    "file = open(\"matlab/train.data\",\"r\")\n",
    "array_of_values = [i.strip() for i in file.readlines()]\n",
    "\n",
    "absolute_counting = calculate_absolute()\n",
    "for ab in array_of_values:\n",
    "    a,b,c = ab.split()\n",
    "    a = int(a)\n",
    "    b = int(b)\n",
    "    c = int(c)\n",
    "    absolute_counting.insert(b,c)\n",
    "\n",
    "arr_sorted = absolute_counting.count1.most_common(1000)\n",
    "\n",
    "import random\n",
    "\n",
    "a1 = set([])\n",
    "while len(a1)!=100:\n",
    "    a1.add(random.randint(0,1000))\n",
    "\n",
    "a1 = list(a1)\n",
    "a2 = list(range(len(a1)))\n",
    "\n",
    "for i in range(len(a1)):\n",
    "    a2[i] = list(arr_sorted)[a1[i]][1]\n",
    "    a1[i] = list(arr_sorted)[a1[i]][0]\n",
    "\n",
    "def averaged_error(actual_values,predicted_vales):\n",
    "    assert(len(actual_values)==len(predicted_vales))\n",
    "    value =0\n",
    "    for i in range(len(actual_values)):\n",
    "        value += abs(actual_values[i]-predicted_vales[i])/actual_values[i]\n",
    "    return value/100\n",
    "\n",
    "error_for_misra_gries =[]\n",
    "error_for_count_sketch =[]\n",
    "error_for_countmin_sketch =[]\n",
    "\n",
    "\n",
    "for val in karr:\n",
    "    misra_gries_counting = misra_gries(val*w)\n",
    "    for ab in array_of_values:\n",
    "        a,b,c = ab.split()\n",
    "        a = int(a)\n",
    "        b = int(b)\n",
    "        c = int(c)\n",
    "        misra_gries_counting.insert(b,c)\n",
    "    top_count_for_misra_gries = []    \n",
    "    for p in a1:\n",
    "        top_count_for_misra_gries.append(misra_gries_counting.count1[p])\n",
    "\n",
    "    avgerr = averaged_error(a2,top_count_for_misra_gries)\n",
    "    error_for_misra_gries.append(avgerr)\n",
    "\n",
    "\n",
    "\n",
    "    CountMinSketch_counting = CountMinSketch(val,w)\n",
    "    for ab in array_of_values:\n",
    "        a,b,c = ab.split()\n",
    "        a = int(a)\n",
    "        b = int(b)\n",
    "        c = int(c)\n",
    "        CountMinSketch_counting.add(b,c)\n",
    "    top_count_for_Countmin_sketch = []\n",
    "    for p in a1:\n",
    "        top_count_for_Countmin_sketch.append(CountMinSketch_counting.get_count(p))\n",
    "    avgerr = averaged_error(a2,top_count_for_Countmin_sketch)\n",
    "    error_for_countmin_sketch.append(avgerr)\n",
    "\n",
    "\n",
    "\n",
    "    CountSketch_counting = CountSketch(val,w)\n",
    "    for ab in array_of_values:\n",
    "        a,b,c = ab.split()\n",
    "        a = int(a)\n",
    "        b = int(b)\n",
    "        c = int(c)\n",
    "        CountSketch_counting.add(b,c)\n",
    "\n",
    "    top_count_for_Count_sketch = []\n",
    "    for p in a1:\n",
    "        top_count_for_Count_sketch.append(CountSketch_counting.get_count(p))\n",
    "    avgerr = averaged_error(a2,top_count_for_Count_sketch)\n",
    "    error_for_count_sketch.append(avgerr)\n",
    "\n",
    "\n",
    "\n",
    "\n",
    "\n"
   ]
  },
  {
   "cell_type": "code",
   "execution_count": 16,
   "id": "nasty-locking",
   "metadata": {},
   "outputs": [
    {
     "data": {
      "text/plain": [
       "<matplotlib.collections.PathCollection at 0x7f5481442700>"
      ]
     },
     "execution_count": 16,
     "metadata": {},
     "output_type": "execute_result"
    },
    {
     "data": {
      "image/png": "[encoded data removed]",
      "text/plain": [
       "<Figure size 432x288 with 1 Axes>"
      ]
     },
     "metadata": {
      "needs_background": "light"
     },
     "output_type": "display_data"
    }
   ],
   "source": [
    "import matplotlib.pyplot as plt\n",
    "\n",
    "plt.scatter(karr,error_for_misra_gries)"
   ]
  },
  {
   "cell_type": "code",
   "execution_count": 17,
   "id": "conceptual-evans",
   "metadata": {},
   "outputs": [
    {
     "data": {
      "text/plain": [
       "<matplotlib.collections.PathCollection at 0x7f54802a0370>"
      ]
     },
     "execution_count": 17,
     "metadata": {},
     "output_type": "execute_result"
    },
    {
     "data": {
      "image/png": "[encoded data removed]",
      "text/plain": [
       "<Figure size 432x288 with 1 Axes>"
      ]
     },
     "metadata": {
      "needs_background": "light"
     },
     "output_type": "display_data"
    }
   ],
   "source": [
    "plt.scatter(karr,error_for_countmin_sketch)"
   ]
  },
  {
   "cell_type": "code",
   "execution_count": 18,
   "id": "disturbed-discount",
   "metadata": {},
   "outputs": [
    {
     "data": {
      "text/plain": [
       "<matplotlib.collections.PathCollection at 0x7f548bab1cd0>"
      ]
     },
     "execution_count": 18,
     "metadata": {},
     "output_type": "execute_result"
    },
    {
     "data": {
      "image/png": "[encoded data removed]",
      "text/plain": [
       "<Figure size 432x288 with 1 Axes>"
      ]
     },
     "metadata": {
      "needs_background": "light"
     },
     "output_type": "display_data"
    }
   ],
   "source": [
    "plt.scatter(karr,error_for_count_sketch)"
   ]
  },
  {
   "cell_type": "code",
   "execution_count": 19,
   "id": "white-adjustment",
   "metadata": {},
   "outputs": [],
   "source": [
    "# here the w = 2000 is giving the very accurate resultso we would need atleas 2000 for getting a result with less than 1% error\n",
    "# In case of misra gries even the 500 works abd it gives the error of less than 1%"
   ]
  }
 ],
 "metadata": {
  "kernelspec": {
   "display_name": "Python 3",
   "language": "python",
   "name": "python3"
  },
  "language_info": {
   "codemirror_mode": {
    "name": "ipython",
    "version": 3
   },
   "file_extension": ".py",
   "mimetype": "text/x-python",
   "name": "python",
   "nbconvert_exporter": "python",
   "pygments_lexer": "ipython3",
   "version": "3.8.5"
  }
 },
 "nbformat": 4,
 "nbformat_minor": 5
}
