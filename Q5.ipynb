{
 "cells": [
  {
   "cell_type": "code",
   "execution_count": 1,
   "id": "figured-efficiency",
   "metadata": {},
   "outputs": [],
   "source": [
    "import numpy as np\n",
    "import pandas as pd\n",
    "import matplotlib.pyplot as plt\n",
    "from sklearn.linear_model import LinearRegression"
   ]
  },
  {
   "cell_type": "code",
   "execution_count": 3,
   "id": "arranged-dialogue",
   "metadata": {},
   "outputs": [],
   "source": [
    "def low_rank_approximate(A_matrix,k=2):\n",
    "    \n",
    "    u_matrix, d_matrix, v_matrix = np.linalg.svd(A_matrix, full_matrices=1)\n",
    "    A_k_matrix = np.zeros((len(u_matrix), len(v_matrix)))\n",
    "    \n",
    "    for i in range(k):\n",
    "        A_k_matrix += d_matrix[i] * np.outer((u_matrix.T)[i], v_matrix[i])\n",
    "\n",
    "    return A_k_matrix"
   ]
  },
  {
   "cell_type": "code",
   "execution_count": null,
   "id": "charming-midnight",
   "metadata": {},
   "outputs": [],
   "source": []
  }
 ],
 "metadata": {
  "kernelspec": {
   "display_name": "Python 3",
   "language": "python",
   "name": "python3"
  },
  "language_info": {
   "codemirror_mode": {
    "name": "ipython",
    "version": 3
   },
   "file_extension": ".py",
   "mimetype": "text/x-python",
   "name": "python",
   "nbconvert_exporter": "python",
   "pygments_lexer": "ipython3",
   "version": "3.8.5"
  }
 },
 "nbformat": 4,
 "nbformat_minor": 5
}
